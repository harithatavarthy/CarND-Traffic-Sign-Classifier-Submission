{
 "cells": [
  {
   "cell_type": "markdown",
   "metadata": {},
   "source": [
    "# Self-Driving Car Engineer Nanodegree\n",
    "\n",
    "## Deep Learning\n",
    "\n",
    "## Project: Build a Traffic Sign Recognition Classifier\n",
    "\n",
    "In this notebook, a template is provided for you to implement your functionality in stages, which is required to successfully complete this project. If additional code is required that cannot be included in the notebook, be sure that the Python code is successfully imported and included in your submission if necessary. \n",
    "\n",
    "> **Note**: Once you have completed all of the code implementations, you need to finalize your work by exporting the iPython Notebook as an HTML document. Before exporting the notebook to html, all of the code cells need to have been run so that reviewers can see the final implementation and output. You can then export the notebook by using the menu above and navigating to  \\n\",\n",
    "    \"**File -> Download as -> HTML (.html)**. Include the finished document along with this notebook as your submission. \n",
    "\n",
    "In addition to implementing code, there is a writeup to complete. The writeup should be completed in a separate file, which can be either a markdown file or a pdf document. There is a [write up template](https://github.com/udacity/CarND-Traffic-Sign-Classifier-Project/blob/master/writeup_template.md) that can be used to guide the writing process. Completing the code template and writeup template will cover all of the [rubric points](https://review.udacity.com/#!/rubrics/481/view) for this project.\n",
    "\n",
    "The [rubric](https://review.udacity.com/#!/rubrics/481/view) contains \"Stand Out Suggestions\" for enhancing the project beyond the minimum requirements. The stand out suggestions are optional. If you decide to pursue the \"stand out suggestions\", you can include the code in this Ipython notebook and also discuss the results in the writeup file.\n",
    "\n",
    "\n",
    ">**Note:** Code and Markdown cells can be executed using the **Shift + Enter** keyboard shortcut. In addition, Markdown cells can be edited by typically double-clicking the cell to enter edit mode."
   ]
  },
  {
   "cell_type": "markdown",
   "metadata": {},
   "source": [
    "---\n",
    "## Step 0: Load The Data"
   ]
  },
  {
   "cell_type": "markdown",
   "metadata": {},
   "source": [
    "\n",
    "## Note : Here i have used ZipFile library to unzip given german traffic sign data to a folder"
   ]
  },
  {
   "cell_type": "code",
   "execution_count": null,
   "metadata": {
    "collapsed": true
   },
   "outputs": [],
   "source": [
    "#unzip the given traffic sign data \n",
    "import zipfile\n",
    "\n",
    "with zipfile.ZipFile(\"./traffic-signs-data.zip\",\"r\") as zip_ref:\n",
    "     zip_ref.extractall(\"./traffic-signs-data\")"
   ]
  },
  {
   "cell_type": "markdown",
   "metadata": {},
   "source": [
    "---\n",
    "\n",
    "## Step 1: Dataset Summary & Exploration\n",
    "\n",
    "The pickled data is a dictionary with 4 key/value pairs:\n",
    "\n",
    "- `'features'` is a 4D array containing raw pixel data of the traffic sign images, (num examples, width, height, channels).\n",
    "- `'labels'` is a 1D array containing the label/class id of the traffic sign. The file `signnames.csv` contains id -> name mappings for each id.\n",
    "- `'sizes'` is a list containing tuples, (width, height) representing the original width and height the image.\n",
    "- `'coords'` is a list containing tuples, (x1, y1, x2, y2) representing coordinates of a bounding box around the sign in the image. **THESE COORDINATES ASSUME THE ORIGINAL IMAGE. THE PICKLED DATA CONTAINS RESIZED VERSIONS (32 by 32) OF THESE IMAGES**\n",
    "\n",
    "Complete the basic data summary below. Use python, numpy and/or pandas methods to calculate the data summary rather than hard coding the results. For example, the [pandas shape method](http://pandas.pydata.org/pandas-docs/stable/generated/pandas.DataFrame.shape.html) might be useful for calculating some of the summary results. "
   ]
  },
  {
   "cell_type": "markdown",
   "metadata": {},
   "source": [
    "## Note : Below I have loaded the picked MNIST data to python arrays."
   ]
  },
  {
   "cell_type": "code",
   "execution_count": 1,
   "metadata": {
    "collapsed": true
   },
   "outputs": [],
   "source": [
    "# Load pickled data\n",
    "import pickle\n",
    "import zipfile\n",
    "\n",
    "# TODO: Fill this in based on where you saved the training and testing data\n",
    "\n",
    "training_file = \"./traffic-signs-data/train.p\"\n",
    "validation_file= './traffic-signs-data/valid.p'\n",
    "testing_file = './traffic-signs-data/test.p'\n",
    "\n",
    "with open(training_file, mode='rb') as f:\n",
    "    train = pickle.load(f)\n",
    "with open(validation_file, mode='rb') as f:\n",
    "    valid = pickle.load(f)\n",
    "with open(testing_file, mode='rb') as f:\n",
    "    test = pickle.load(f)\n",
    "    \n",
    "X_train, y_train = train['features'], train['labels']\n",
    "X_valid, y_valid = valid['features'], valid['labels']\n",
    "X_test, y_test = test['features'], test['labels']\n",
    "\n",
    "assert(len(X_train) == len(y_train))\n",
    "assert(len(X_valid) == len(y_valid))\n",
    "assert(len(X_test) == len(y_test))"
   ]
  },
  {
   "cell_type": "markdown",
   "metadata": {},
   "source": [
    "### Provide a Basic Summary of the Data Set Using Python, Numpy and/or Pandas"
   ]
  },
  {
   "cell_type": "markdown",
   "metadata": {},
   "source": [
    "## Note : Print some quick statistics on input data"
   ]
  },
  {
   "cell_type": "code",
   "execution_count": 2,
   "metadata": {},
   "outputs": [
    {
     "name": "stdout",
     "output_type": "stream",
     "text": [
      "Number of training examples = 34799\n",
      "Number of Validation examples = 4410\n",
      "Number of testing examples = 12630\n",
      "Image data shape = (32, 32, 3)\n",
      "Number of classes = 43\n"
     ]
    }
   ],
   "source": [
    "import numpy as np\n",
    "\n",
    "### Replace each question mark with the appropriate value. \n",
    "### Use python, pandas or numpy methods rather than hard coding the results\n",
    "\n",
    "# TODO: Number of training examples\n",
    "n_train = len(X_train)\n",
    "\n",
    "# TODO: Number of validation examples\n",
    "n_validation = len(X_valid)\n",
    "\n",
    "# TODO: Number of testing examples.\n",
    "n_test = len(X_test)\n",
    "\n",
    "# TODO: What's the shape of an traffic sign image?\n",
    "image_shape = X_train[0].shape\n",
    "\n",
    "# TODO: How many unique classes/labels there are in the dataset.\n",
    "n_classes = len(np.unique(y_train))\n",
    "\n",
    "print(\"Number of training examples =\", n_train)\n",
    "print(\"Number of Validation examples =\", n_validation)\n",
    "print(\"Number of testing examples =\", n_test)\n",
    "print(\"Image data shape =\", image_shape)\n",
    "print(\"Number of classes =\", n_classes)"
   ]
  },
  {
   "cell_type": "markdown",
   "metadata": {},
   "source": [
    "### Include an exploratory visualization of the dataset"
   ]
  },
  {
   "cell_type": "markdown",
   "metadata": {},
   "source": [
    "Visualize the German Traffic Signs Dataset using the pickled file(s). This is open ended, suggestions include: plotting traffic sign images, plotting the count of each sign, etc. \n",
    "\n",
    "The [Matplotlib](http://matplotlib.org/) [examples](http://matplotlib.org/examples/index.html) and [gallery](http://matplotlib.org/gallery.html) pages are a great resource for doing visualizations in Python.\n",
    "\n",
    "**NOTE:** It's recommended you start with something simple first. If you wish to do more, come back to it after you've completed the rest of the sections. It can be interesting to look at the distribution of classes in the training, validation and test set. Is the distribution the same? Are there more examples of some classes than others?"
   ]
  },
  {
   "cell_type": "markdown",
   "metadata": {},
   "source": [
    "## Note: Visualize Input Data"
   ]
  },
  {
   "cell_type": "code",
   "execution_count": 3,
   "metadata": {},
   "outputs": [
    {
     "data": {
      "image/png": "[encoded data removed]",
      "text/plain": [
       "<matplotlib.figure.Figure at 0x3230574fd0>"
      ]
     },
     "metadata": {},
     "output_type": "display_data"
    }
   ],
   "source": [
    "### Data exploration visualization code goes here.\n",
    "### Feel free to use as many code cells as needed.\n",
    "import matplotlib.pyplot as plt\n",
    "# Visualizations will be shown in the notebook.\n",
    "%matplotlib inline\n",
    "\n",
    "import random\n",
    "\n",
    "# show image of 10 random data points\n",
    "fig, axs = plt.subplots(2,5, figsize=(32, 32))\n",
    "fig.subplots_adjust(hspace = .01, wspace=.02)\n",
    "axs = axs.ravel()\n",
    "for i in range(10):\n",
    "    index = random.randint(0, len(X_train))\n",
    "    image = X_train[index]\n",
    "    axs[i].axis('off')\n",
    "    axs[i].imshow(image)\n",
    "    axs[i].set_title(y_train[index])"
   ]
  },
  {
   "cell_type": "markdown",
   "metadata": {},
   "source": [
    "----\n",
    "\n",
    "## Step 2: Design and Test a Model Architecture\n",
    "\n",
    "Design and implement a deep learning model that learns to recognize traffic signs. Train and test your model on the [German Traffic Sign Dataset](http://benchmark.ini.rub.de/?section=gtsrb&subsection=dataset).\n",
    "\n",
    "The LeNet-5 implementation shown in the [classroom](https://classroom.udacity.com/nanodegrees/nd013/parts/fbf77062-5703-404e-b60c-95b78b2f3f9e/modules/6df7ae49-c61c-4bb2-a23e-6527e69209ec/lessons/601ae704-1035-4287-8b11-e2c2716217ad/concepts/d4aca031-508f-4e0b-b493-e7b706120f81) at the end of the CNN lesson is a solid starting point. You'll have to change the number of classes and possibly the preprocessing, but aside from that it's plug and play! \n",
    "\n",
    "With the LeNet-5 solution from the lecture, you should expect a validation set accuracy of about 0.89. To meet specifications, the validation set accuracy will need to be at least 0.93. It is possible to get an even higher accuracy, but 0.93 is the minimum for a successful project submission. \n",
    "\n",
    "There are various aspects to consider when thinking about this problem:\n",
    "\n",
    "- Neural network architecture (is the network over or underfitting?)\n",
    "- Play around preprocessing techniques (normalization, rgb to grayscale, etc)\n",
    "- Number of examples per label (some have more than others).\n",
    "- Generate fake data.\n",
    "\n",
    "Here is an example of a [published baseline model on this problem](http://yann.lecun.com/exdb/publis/pdf/sermanet-ijcnn-11.pdf). It's not required to be familiar with the approach used in the paper but, it's good practice to try to read papers like these."
   ]
  },
  {
   "cell_type": "markdown",
   "metadata": {},
   "source": [
    "### Pre-process the Data Set (normalization, grayscale, etc.)"
   ]
  },
  {
   "cell_type": "markdown",
   "metadata": {},
   "source": [
    "Minimally, the image data should be normalized so that the data has mean zero and equal variance. For image data, `(pixel - 128)/ 128` is a quick way to approximately normalize the data and can be used in this project. \n",
    "\n",
    "Other pre-processing steps are optional. You can try different techniques to see if it improves performance. \n",
    "\n",
    "Use the code cell (or multiple code cells, if necessary) to implement the first step of your project."
   ]
  },
  {
   "cell_type": "markdown",
   "metadata": {},
   "source": [
    "## Note :  Convert input data from RGB to grayscale"
   ]
  },
  {
   "cell_type": "code",
   "execution_count": 4,
   "metadata": {},
   "outputs": [
    {
     "name": "stdout",
     "output_type": "stream",
     "text": [
      "RGB shape: (34799, 32, 32, 3)\n",
      "Grayscale shape: (34799, 32, 32, 1)\n"
     ]
    }
   ],
   "source": [
    "# Convert to grayscale\n",
    "X_train_rgb = X_train\n",
    "X_train_gry = np.sum(X_train/3, axis=3, keepdims=True)\n",
    "\n",
    "\n",
    "X_test_rgb = X_test\n",
    "X_test_gry = np.sum(X_test/3, axis=3, keepdims=True)\n",
    "\n",
    "X_valid_rgb = X_valid\n",
    "X_valid_gry = np.sum(X_valid/3, axis=3, keepdims=True)\n",
    "\n",
    "print('RGB shape:', X_train_rgb.shape)\n",
    "print('Grayscale shape:', X_train_gry.shape)\n",
    "\n",
    "X_train = X_train_gry\n",
    "X_test = X_test_gry\n",
    "X_valid = X_valid_gry"
   ]
  },
  {
   "cell_type": "markdown",
   "metadata": {},
   "source": [
    "## Note :  Now we will normalize training and test  data to ensure we have Zero mean and equal Variance"
   ]
  },
  {
   "cell_type": "code",
   "execution_count": 5,
   "metadata": {},
   "outputs": [
    {
     "name": "stdout",
     "output_type": "stream",
     "text": [
      "Mean of Training Data : 82.67758903699634\n",
      "Mean of Test Data : 82.14846036120173\n",
      "Mean of Normalized Training Data : -0.35408133564846583\n",
      "Mean of Normalized Test Data : -0.3582151534281105\n"
     ]
    }
   ],
   "source": [
    "print(\"Mean of Training Data : {}\".format(np.mean(X_train)))\n",
    "print(\"Mean of Test Data : {}\".format(np.mean(X_test)))\n",
    "#print(\"Mean of Valid Data : {}\".format(np.mean(X_valid)))\n",
    "\n",
    "## Normalize the train and test datasets to (-1,1)\n",
    "\n",
    "X_train_normalized = (X_train - 128)/128\n",
    "X_test_normalized = (X_test - 128)/128\n",
    "#X_valid_normalized = (X_valid - 128)/128\n",
    "\n",
    "\n",
    "print(\"Mean of Normalized Training Data : {}\".format(np.mean(X_train_normalized)))\n",
    "print(\"Mean of Normalized Test Data : {}\".format(np.mean(X_test_normalized)))\n",
    "#print(\"Mean of Normalized Valid Data : {}\".format(np.mean(X_valid_normalized)))\n",
    "\n",
    "\n",
    "X_train = X_train_normalized\n",
    "X_test = X_test_normalized\n",
    "#X_valid = X_valid_normalized\n",
    "#X_valid = X_valid_normalized"
   ]
  },
  {
   "cell_type": "code",
   "execution_count": 6,
   "metadata": {},
   "outputs": [
    {
     "name": "stdout",
     "output_type": "stream",
     "text": [
      "Max of Normalized Data : 0.9921875\n",
      "Max of Normalized Data : -0.9713541666666666\n",
      "Original shape: (34799, 32, 32, 1)\n",
      "Normalized shape: (34799, 32, 32, 1)\n",
      "Train Shape: (34799, 32, 32, 1)\n",
      "Test shape: (12630, 32, 32, 1)\n",
      "Valid shape: (4410, 32, 32, 1)\n"
     ]
    },
    {
     "data": {
      "image/png": "[encoded data removed]",
      "text/plain": [
       "<matplotlib.figure.Figure at 0x32318377b8>"
      ]
     },
     "metadata": {},
     "output_type": "display_data"
    }
   ],
   "source": [
    "print(\"Max of Normalized Data : {}\".format(np.max(X_train_normalized)))\n",
    "print(\"Max of Normalized Data : {}\".format(np.min(X_train_normalized)))\n",
    "print(\"Original shape:\", X_train.shape)\n",
    "print(\"Normalized shape:\", X_train_normalized.shape)\n",
    "fig, axs = plt.subplots(1,2, figsize=(10, 3))\n",
    "axs = axs.ravel()\n",
    "\n",
    "axs[0].axis('off')\n",
    "axs[0].set_title('normalized')\n",
    "axs[0].imshow(X_train_normalized[0].squeeze(), cmap='gray')\n",
    "\n",
    "axs[1].axis('off')\n",
    "axs[1].set_title('original')\n",
    "axs[1].imshow(X_train[0].squeeze(), cmap='gray')\n",
    "\n",
    "print('Train Shape:', X_train.shape)\n",
    "print('Test shape:', X_test.shape)\n",
    "print('Valid shape:', X_valid.shape)"
   ]
  },
  {
   "cell_type": "markdown",
   "metadata": {},
   "source": [
    "## Note : Identify given training data  frequency by label"
   ]
  },
  {
   "cell_type": "code",
   "execution_count": 7,
   "metadata": {},
   "outputs": [
    {
     "data": {
      "image/png": "[encoded data removed]",
      "text/plain": [
       "<matplotlib.figure.Figure at 0x3232e90198>"
      ]
     },
     "metadata": {},
     "output_type": "display_data"
    },
    {
     "name": "stdout",
     "output_type": "stream",
     "text": [
      "[ 180 1980 2010 1260 1770 1650  360 1290 1260 1320 1800 1170 1890 1920  690\n",
      "  540  360  990 1080  180  300  270  330  450  240 1350  540  210  480  240\n",
      "  390  690  210  599  360 1080  330  180 1860  270  300  210  210]\n",
      "minimum samples for any label: 180\n"
     ]
    }
   ],
   "source": [
    "# histogram of label frequency for training data\n",
    "import matplotlib.pyplot as plt\n",
    "# Visualizations will be shown in the notebook.\n",
    "%matplotlib inline\n",
    "\n",
    "import random\n",
    "# histogram of label frequency (once again, before data augmentation)\n",
    "hist, bins = np.histogram(y_train, bins=n_classes)\n",
    "width = 0.7 * (bins[1] - bins[0])\n",
    "center = (bins[:-1] + bins[1:]) / 2\n",
    "plt.bar(center, hist, align='center', width=width)\n",
    "plt.show()\n",
    "print(np.bincount(y_train))\n",
    "print(\"minimum samples for any label:\", min(np.bincount(y_train)))"
   ]
  },
  {
   "cell_type": "markdown",
   "metadata": {},
   "source": [
    "## Note : Identify given Validataion set  frequency by label"
   ]
  },
  {
   "cell_type": "code",
   "execution_count": 8,
   "metadata": {},
   "outputs": [
    {
     "data": {
      "image/png": "[encoded data removed]",
      "text/plain": [
       "<matplotlib.figure.Figure at 0x322d44b6a0>"
      ]
     },
     "metadata": {},
     "output_type": "display_data"
    },
    {
     "name": "stdout",
     "output_type": "stream",
     "text": [
      "[ 30 240 240 150 210 210  60 150 150 150 210 150 210 240  90  90  60 120\n",
      " 120  30  60  60  60  60  30 150  60  30  60  30  60  90  30  90  60 120\n",
      "  60  30 210  30  60  30  30]\n",
      "minimum samples for any label: 30\n"
     ]
    }
   ],
   "source": [
    "# histogram of label frequency for validation data\n",
    "hist, bins = np.histogram(y_valid, bins=n_classes)\n",
    "width = 0.7 * (bins[1] - bins[0])\n",
    "center = (bins[:-1] + bins[1:]) / 2\n",
    "plt.bar(center, hist, align='center', width=width)\n",
    "plt.show()\n",
    "print(np.bincount(y_valid))\n",
    "print(\"minimum samples for any label:\", min(np.bincount(y_valid)))"
   ]
  },
  {
   "cell_type": "markdown",
   "metadata": {},
   "source": [
    "## Note : Here we will augment data such that each class of input training data has a minimum of 800 samples."
   ]
  },
  {
   "cell_type": "code",
   "execution_count": 9,
   "metadata": {},
   "outputs": [
    {
     "name": "stdout",
     "output_type": "stream",
     "text": [
      "X, y shapes: (34799, 32, 32, 1) (34799,)\n",
      "0 : |----|----|----|----|----|----|----|----|----|----|----|----|-\n",
      "1 : \n",
      "2 : \n",
      "3 : \n",
      "4 : \n",
      "5 : \n",
      "6 : |----|----|----|----|----|----|----|----|---\n",
      "7 : \n",
      "8 : \n",
      "9 : \n",
      "10 : \n",
      "11 : \n",
      "12 : \n",
      "13 : \n",
      "14 : |----|----|\n",
      "15 : |----|----|----|----|----|\n",
      "16 : |----|----|----|----|----|----|----|----|---\n",
      "17 : \n",
      "18 : \n",
      "19 : |----|----|----|----|----|----|----|----|----|----|----|----|-\n",
      "20 : |----|----|----|----|----|----|----|----|----|----\n",
      "21 : |----|----|----|----|----|----|----|----|----|----|--\n",
      "22 : |----|----|----|----|----|----|----|----|----|-\n",
      "23 : |----|----|----|----|----|----|----\n",
      "24 : |----|----|----|----|----|----|----|----|----|----|----|\n",
      "25 : \n",
      "26 : |----|----|----|----|----|\n",
      "27 : |----|----|----|----|----|----|----|----|----|----|----|---\n",
      "28 : |----|----|----|----|----|----|-\n",
      "29 : |----|----|----|----|----|----|----|----|----|----|----|\n",
      "30 : |----|----|----|----|----|----|----|----|\n",
      "31 : |----|----|\n",
      "32 : |----|----|----|----|----|----|----|----|----|----|----|---\n",
      "33 : |----|----|----|----|\n",
      "34 : |----|----|----|----|----|----|----|----|---\n",
      "35 : \n",
      "36 : |----|----|----|----|----|----|----|----|----|-\n",
      "37 : |----|----|----|----|----|----|----|----|----|----|----|----|-\n",
      "38 : \n",
      "39 : |----|----|----|----|----|----|----|----|----|----|--\n",
      "40 : |----|----|----|----|----|----|----|----|----|----\n",
      "41 : |----|----|----|----|----|----|----|----|----|----|----|---\n",
      "42 : |----|----|----|----|----|----|----|----|----|----|----|---\n",
      "X, y shapes: (46480, 32, 32, 1) (46480,)\n"
     ]
    }
   ],
   "source": [
    "print('X, y shapes:', X_train.shape, y_train.shape)\n",
    "\n",
    "input_indices = []\n",
    "output_indices = []\n",
    "\n",
    "for class_n in range(n_classes):\n",
    "    print(class_n, ': ', end='')\n",
    "    class_indices = np.where(y_train == class_n)\n",
    "    #print(class_indices[0])\n",
    "    n_samples = len(class_indices[0])\n",
    "    if n_samples < 800:\n",
    "        for i in range(800 - n_samples):\n",
    "            input_indices.append(class_indices[0][i%n_samples])\n",
    "            output_indices.append(X_train.shape[0])\n",
    "            new_img = X_train[class_indices[0][i % n_samples]]\n",
    "            #print(class_indices[0][i % n_samples])\n",
    "            #new_img = random_translate(random_scaling(random_warp(random_brightness(new_img))))\n",
    "            X_train = np.concatenate((X_train, [new_img]), axis=0)\n",
    "            y_train = np.concatenate((y_train, [class_n]), axis=0)\n",
    "            if i % 50 == 0:\n",
    "                print('|', end='')\n",
    "            elif i % 10 == 0:\n",
    "                print('-',end='')\n",
    "    print('')\n",
    "            \n",
    "print('X, y shapes:', X_train.shape, y_train.shape)\n",
    "X_train_save = X_train\n",
    "y_train_save = y_train"
   ]
  },
  {
   "cell_type": "markdown",
   "metadata": {},
   "source": [
    "## Note : Post data augmentation visualize training dataset  frequency by label"
   ]
  },
  {
   "cell_type": "code",
   "execution_count": 10,
   "metadata": {
    "scrolled": true
   },
   "outputs": [
    {
     "data": {
      "image/png": "[encoded data removed]",
      "text/plain": [
       "<matplotlib.figure.Figure at 0x3230760b00>"
      ]
     },
     "metadata": {},
     "output_type": "display_data"
    },
    {
     "name": "stdout",
     "output_type": "stream",
     "text": [
      "[ 800 1980 2010 1260 1770 1650  800 1290 1260 1320 1800 1170 1890 1920  800\n",
      "  800  800  990 1080  800  800  800  800  800  800 1350  800  800  800  800\n",
      "  800  800  800  800  800 1080  800  800 1860  800  800  800  800]\n",
      "minimum samples for any label: 800\n"
     ]
    }
   ],
   "source": [
    "# histogram of label frequency for training data\n",
    "import matplotlib.pyplot as plt\n",
    "# Visualizations will be shown in the notebook.\n",
    "%matplotlib inline\n",
    "\n",
    "import random\n",
    "# histogram of label frequency (once again, before data augmentation)\n",
    "hist, bins = np.histogram(y_train, bins=n_classes)\n",
    "width = 0.7 * (bins[1] - bins[0])\n",
    "center = (bins[:-1] + bins[1:]) / 2\n",
    "plt.bar(center, hist, align='center', width=width)\n",
    "plt.show()\n",
    "print(np.bincount(y_train))\n",
    "print(\"minimum samples for any label:\", min(np.bincount(y_train)))"
   ]
  },
  {
   "cell_type": "markdown",
   "metadata": {},
   "source": [
    "## Note : Shuffle the training data set  before we carve out a new validation set"
   ]
  },
  {
   "cell_type": "code",
   "execution_count": 11,
   "metadata": {},
   "outputs": [
    {
     "name": "stdout",
     "output_type": "stream",
     "text": [
      "done\n"
     ]
    }
   ],
   "source": [
    "\n",
    "## Shuffle the training dataset\n",
    "\n",
    "from sklearn.utils import shuffle\n",
    "\n",
    "X_train, y_train = shuffle(X_train, y_train)\n",
    "\n",
    "print('done')"
   ]
  },
  {
   "cell_type": "markdown",
   "metadata": {},
   "source": [
    "## Note : 20% of training data will be used for validating the accuracy of trained network. Hence seperating the required validation data from training set. i will rather use this validation set thant the one provided by Udacity. This validation set carved out from the training data will act as true representation of training data for effective training of network."
   ]
  },
  {
   "cell_type": "code",
   "execution_count": 12,
   "metadata": {},
   "outputs": [
    {
     "name": "stdout",
     "output_type": "stream",
     "text": [
      "Old X_train size: 46480\n",
      "New X_train size: 37184\n",
      "X_validation size: 9296\n"
     ]
    }
   ],
   "source": [
    "## Split validation dataset off from training dataset\n",
    "\n",
    "from sklearn.model_selection import train_test_split\n",
    "\n",
    "X_train_temp, X_valid_temp, y_train_temp, y_valid_temp = train_test_split(X_train, y_train, \n",
    "                                                                test_size=0.20, random_state=42)\n",
    "\n",
    "print(\"Old X_train size:\",len(X_train))\n",
    "print(\"New X_train size:\",len(X_train_temp))\n",
    "print(\"X_validation size:\",len(X_valid_temp))"
   ]
  },
  {
   "cell_type": "markdown",
   "metadata": {},
   "source": [
    "## Note : Post split of training data,  visualize remaining training dataset  frequency by label"
   ]
  },
  {
   "cell_type": "code",
   "execution_count": 13,
   "metadata": {},
   "outputs": [
    {
     "data": {
      "image/png": "[encoded data removed]",
      "text/plain": [
       "<matplotlib.figure.Figure at 0x3211cde080>"
      ]
     },
     "metadata": {},
     "output_type": "display_data"
    },
    {
     "name": "stdout",
     "output_type": "stream",
     "text": [
      "[ 613 1605 1620 1002 1386 1334  648 1017 1001 1049 1445  928 1538 1531  613\n",
      "  653  632  787  874  646  643  657  610  639  639 1092  660  644  634  622\n",
      "  626  656  653  644  642  877  637  637 1486  631  646  648  639]\n",
      "minimum samples for any label: 610\n"
     ]
    }
   ],
   "source": [
    "hist, bins = np.histogram(y_train_temp, bins=n_classes)\n",
    "width = 0.7 * (bins[1] - bins[0])\n",
    "center = (bins[:-1] + bins[1:]) / 2\n",
    "plt.bar(center, hist, align='center', width=width)\n",
    "plt.show()\n",
    "print(np.bincount(y_train_temp))\n",
    "print(\"minimum samples for any label:\", min(np.bincount(y_train_temp)))"
   ]
  },
  {
   "cell_type": "markdown",
   "metadata": {},
   "source": [
    "## Note : Visualize the frequency of new validation set , carved out from the training set."
   ]
  },
  {
   "cell_type": "code",
   "execution_count": 14,
   "metadata": {},
   "outputs": [
    {
     "data": {
      "image/png": "[encoded data removed]",
      "text/plain": [
       "<matplotlib.figure.Figure at 0x322d2716d8>"
      ]
     },
     "metadata": {},
     "output_type": "display_data"
    },
    {
     "name": "stdout",
     "output_type": "stream",
     "text": [
      "[187 375 390 258 384 316 152 273 259 271 355 242 352 389 187 147 168 203\n",
      " 206 154 157 143 190 161 161 258 140 156 166 178 174 144 147 156 158 203\n",
      " 163 163 374 169 154 152 161]\n",
      "minimum samples for any label: 140\n"
     ]
    }
   ],
   "source": [
    "hist, bins = np.histogram(y_valid_temp, bins=n_classes)\n",
    "width = 0.7 * (bins[1] - bins[0])\n",
    "center = (bins[:-1] + bins[1:]) / 2\n",
    "plt.bar(center, hist, align='center', width=width)\n",
    "plt.show()\n",
    "print(np.bincount(y_valid_temp))\n",
    "print(\"minimum samples for any label:\", min(np.bincount(y_valid_temp)))"
   ]
  },
  {
   "cell_type": "markdown",
   "metadata": {},
   "source": [
    "## Note : override the udacity provided validation set with the carved out validation set."
   ]
  },
  {
   "cell_type": "code",
   "execution_count": 15,
   "metadata": {
    "collapsed": true
   },
   "outputs": [],
   "source": [
    "#X_valid = np.concatenate((X_valid, X_valid_temp), axis=0)\n",
    "#y_valid = np.concatenate((y_valid, y_valid_temp), axis=0)\n",
    "X_valid_copy = X_valid\n",
    "y_valid_copy = y_valid\n",
    "\n",
    "X_valid = X_valid_temp\n",
    "y_valid = y_valid_temp"
   ]
  },
  {
   "cell_type": "markdown",
   "metadata": {},
   "source": [
    "## Note:  Rotate arrays (pixels) of a percentage of input training data in an effort to better train the network  -- Change  parameter 'ROTMAT' to play with this. "
   ]
  },
  {
   "cell_type": "code",
   "execution_count": null,
   "metadata": {
    "collapsed": true,
    "scrolled": true
   },
   "outputs": [],
   "source": [
    "### Preprocess the data here. It is required to normalize the data. Other preprocessing steps could include \n",
    "### converting to grayscale, etc.\n",
    "### Feel free to use as many code cells as needed.\n",
    "\n",
    "\n",
    "import numpy as np\n",
    "import matplotlib.pyplot as plt\n",
    "# Visualizations will be shown in the notebook.\n",
    "%matplotlib inline\n",
    "\n",
    "# Randomly Rotate % of input images to improve training accuracy.\n",
    "# rotmat will be a hyperparameter that can be tuned.\n",
    "# Set ROTMAT to a vaue between 0 and 100\n",
    "rotmat = 0\n",
    "\n",
    "if rotmat > 100: \n",
    "   rotmat = 100\n",
    "elif rotmat < 0:\n",
    "    rotmat = 0\n",
    "\n",
    "limit =  (int(len(X_train)*rotmat/100))\n",
    "\n",
    "if rotmat > 0:\n",
    "    for index in range(limit):\n",
    "        X_train[index] = X_train[index][::-1]\n",
    "print(\"Rotated: {} % of images\".format(rotmat))\n",
    "\n",
    "\n",
    "#image = X_train[0]\n",
    "#plt.figure(figsize=(15,5))\n",
    "#plt.imshow(image)\n",
    "#print(y_train[0])\n",
    "#y = X_train[0][::-1]\n",
    "#rotateimage = y.squeeze()\n",
    "#plt.figure(figsize=(15,5))\n",
    "#plt.imshow(rotateimage)"
   ]
  },
  {
   "cell_type": "markdown",
   "metadata": {},
   "source": [
    "## Note : Shuffle the training data set again"
   ]
  },
  {
   "cell_type": "code",
   "execution_count": 16,
   "metadata": {
    "collapsed": true
   },
   "outputs": [],
   "source": [
    "#shuffle the training data\n",
    "from sklearn.utils import shuffle\n",
    "X_train, y_train = shuffle(X_train, y_train)"
   ]
  },
  {
   "cell_type": "markdown",
   "metadata": {},
   "source": [
    "### Model Architecture"
   ]
  },
  {
   "cell_type": "markdown",
   "metadata": {},
   "source": [
    "## Note : LeNet is Udacity supplied network architecture modified to handle RGB images with depth of \"3\""
   ]
  },
  {
   "cell_type": "code",
   "execution_count": null,
   "metadata": {
    "collapsed": true
   },
   "outputs": [],
   "source": [
    "### Define your architecture here.\n",
    "### Feel free to use as many code cells as needed.\n",
    "import tensorflow as tf\n",
    "\n",
    "EPOCHS = 40\n",
    "BATCH_SIZE = 64\n",
    "\n",
    "from tensorflow.contrib.layers import flatten\n",
    "\n",
    "def LeNet(x):    \n",
    "    # Arguments used for tf.truncated_normal, randomly defines variables for the weights and biases for each layer\n",
    "    mu = 0\n",
    "    sigma = 0.1\n",
    "    \n",
    "    # SOLUTION: Layer 1: Convolutional. Input = 32x32x3. Output = 28x28x6.\n",
    "    conv1_W = tf.Variable(tf.truncated_normal(shape=(5, 5, 3, 6), mean = mu, stddev = sigma))\n",
    "    conv1_b = tf.Variable(tf.zeros(6))\n",
    "    conv1   = tf.nn.conv2d(x, conv1_W, strides=[1, 1, 1, 1], padding='VALID') + conv1_b\n",
    "\n",
    "    # SOLUTION: Activation.\n",
    "    conv1 = tf.nn.relu(conv1)\n",
    "\n",
    "    # SOLUTION: Pooling. Input = 28x28x6. Output = 14x14x6.\n",
    "    conv1 = tf.nn.max_pool(conv1, ksize=[1, 2, 2, 1], strides=[1, 2, 2, 1], padding='VALID')\n",
    "\n",
    "    # SOLUTION: Layer 2: Convolutional. Output = 10x10x16.\n",
    "    conv2_W = tf.Variable(tf.truncated_normal(shape=(5, 5, 6, 16), mean = mu, stddev = sigma))\n",
    "    conv2_b = tf.Variable(tf.zeros(16))\n",
    "    conv2   = tf.nn.conv2d(conv1, conv2_W, strides=[1, 1, 1, 1], padding='VALID') + conv2_b\n",
    "    \n",
    "    # SOLUTION: Activation.\n",
    "    conv2 = tf.nn.relu(conv2)\n",
    "\n",
    "    # SOLUTION: Pooling. Input = 10x10x16. Output = 5x5x16.\n",
    "    conv2 = tf.nn.max_pool(conv2, ksize=[1, 2, 2, 1], strides=[1, 2, 2, 1], padding='VALID')\n",
    "\n",
    "    # SOLUTION: Flatten. Input = 5x5x16. Output = 400.\n",
    "    fc0   = flatten(conv2)\n",
    "    \n",
    "    # SOLUTION: Layer 3: Fully Connected. Input = 400. Output = 120.\n",
    "    fc1_W = tf.Variable(tf.truncated_normal(shape=(400, 120), mean = mu, stddev = sigma))\n",
    "    fc1_b = tf.Variable(tf.zeros(120))\n",
    "    fc1   = tf.matmul(fc0, fc1_W) + fc1_b\n",
    "    \n",
    "    # SOLUTION: Activation.\n",
    "    fc1    = tf.nn.relu(fc1)\n",
    "\n",
    "    # SOLUTION: Layer 4: Fully Connected. Input = 120. Output = 84.\n",
    "    fc2_W  = tf.Variable(tf.truncated_normal(shape=(120, 84), mean = mu, stddev = sigma))\n",
    "    fc2_b  = tf.Variable(tf.zeros(84))\n",
    "    fc2    = tf.matmul(fc1, fc2_W) + fc2_b\n",
    "    \n",
    "    # SOLUTION: Activation.\n",
    "    fc2    = tf.nn.relu(fc2)\n",
    "\n",
    "    # SOLUTION: Layer 5: Fully Connected. Input = 84. Output = 43.\n",
    "    fc3_W  = tf.Variable(tf.truncated_normal(shape=(84, 43), mean = mu, stddev = sigma))\n",
    "    fc3_b  = tf.Variable(tf.zeros(43))\n",
    "    logits = tf.matmul(fc2, fc3_W) + fc3_b\n",
    "    \n",
    "    return logits"
   ]
  },
  {
   "cell_type": "markdown",
   "metadata": {},
   "source": [
    "## Note : LeNetGry is Udacity supplied network architecture modified to handle GrayScale images with a deapth of \"1\""
   ]
  },
  {
   "cell_type": "code",
   "execution_count": null,
   "metadata": {
    "collapsed": true
   },
   "outputs": [],
   "source": [
    "### Define your architecture here.\n",
    "### Feel free to use as many code cells as needed.\n",
    "import tensorflow as tf\n",
    "\n",
    "EPOCHS = 20\n",
    "BATCH_SIZE = 128\n",
    "rate = 0.001\n",
    "\n",
    "from tensorflow.contrib.layers import flatten\n",
    "\n",
    "def LeNetGry(x):    \n",
    "    \n",
    "    mu = 0\n",
    "    sigma = 0.1\n",
    "    \n",
    "    # SOLUTION: Layer 1: Convolutional. Input = 32x32x1. Output = 28x28x6.\n",
    "    conv1_W = tf.Variable(tf.truncated_normal(shape=(5, 5, 1, 6), mean = mu, stddev = sigma))\n",
    "    conv1_b = tf.Variable(tf.zeros(6))\n",
    "    conv1   = tf.nn.conv2d(x, conv1_W, strides=[1, 1, 1, 1], padding='VALID') + conv1_b\n",
    "\n",
    "    # SOLUTION: Activation.\n",
    "    conv1 = tf.nn.relu(conv1)\n",
    "\n",
    "    # SOLUTION: Pooling. Input = 28x28x6. Output = 14x14x6.\n",
    "    conv1 = tf.nn.max_pool(conv1, ksize=[1, 2, 2, 1], strides=[1, 2, 2, 1], padding='VALID')\n",
    "\n",
    "    # SOLUTION: Layer 2: Convolutional. Output = 10x10x16.\n",
    "    conv2_W = tf.Variable(tf.truncated_normal(shape=(5, 5, 6, 16), mean = mu, stddev = sigma))\n",
    "    conv2_b = tf.Variable(tf.zeros(16))\n",
    "    conv2   = tf.nn.conv2d(conv1, conv2_W, strides=[1, 1, 1, 1], padding='VALID') + conv2_b\n",
    "    \n",
    "    # SOLUTION: Activation.\n",
    "    conv2 = tf.nn.relu(conv2)\n",
    "\n",
    "    # SOLUTION: Pooling. Input = 10x10x16. Output = 5x5x16.\n",
    "    conv2 = tf.nn.max_pool(conv2, ksize=[1, 2, 2, 1], strides=[1, 2, 2, 1], padding='VALID')\n",
    "\n",
    "    # SOLUTION: Flatten. Input = 5x5x16. Output = 400.\n",
    "    fc0   = flatten(conv2)\n",
    "    \n",
    "    # SOLUTION: Layer 3: Fully Connected. Input = 400. Output = 120.\n",
    "    fc1_W = tf.Variable(tf.truncated_normal(shape=(400, 120), mean = mu, stddev = sigma))\n",
    "    fc1_b = tf.Variable(tf.zeros(120))\n",
    "    fc1   = tf.matmul(fc0, fc1_W) + fc1_b\n",
    "    \n",
    "    # SOLUTION: Activation.\n",
    "    fc1    = tf.nn.relu(fc1)\n",
    "    fc1 = tf.nn.dropout(fc1, keep_prob)\n",
    "\n",
    "    # SOLUTION: Layer 4: Fully Connected. Input = 120. Output = 84.\n",
    "    fc2_W  = tf.Variable(tf.truncated_normal(shape=(120, 84), mean = mu, stddev = sigma))\n",
    "    fc2_b  = tf.Variable(tf.zeros(84))\n",
    "    fc2    = tf.matmul(fc1, fc2_W) + fc2_b\n",
    "    \n",
    "    # SOLUTION: Activation.\n",
    "    fc2    = tf.nn.relu(fc2)\n",
    "    fc2 = tf.nn.dropout(fc2, keep_prob)\n",
    "\n",
    "    # SOLUTION: Layer 5: Fully Connected. Input = 84. Output = 43.\n",
    "    fc3_W  = tf.Variable(tf.truncated_normal(shape=(84, 43), mean = mu, stddev = sigma))\n",
    "    fc3_b  = tf.Variable(tf.zeros(43))\n",
    "    logits = tf.matmul(fc2, fc3_W) + fc3_b\n",
    "    \n",
    "    return logits"
   ]
  },
  {
   "cell_type": "markdown",
   "metadata": {},
   "source": [
    "## Note : LeNet2 is a modified CovNet -  suggested by Pierre Sermanet and Yann Lecun"
   ]
  },
  {
   "cell_type": "code",
   "execution_count": 17,
   "metadata": {},
   "outputs": [
    {
     "name": "stdout",
     "output_type": "stream",
     "text": [
      "done\n"
     ]
    }
   ],
   "source": [
    "EPOCHS = 20\n",
    "BATCH_SIZE = 128\n",
    "rate = 0.001\n",
    "import tensorflow as tf\n",
    "from tensorflow.contrib.layers import flatten\n",
    "\n",
    "def LeNet2(x):    \n",
    "    # Hyperparameters\n",
    "    mu = 0\n",
    "    sigma = 0.1\n",
    "    \n",
    "    # TODO: Layer 1: Convolutional. Input = 32x32x1. Output = 28x28x6.\n",
    "    W1 = tf.Variable(tf.truncated_normal(shape=(5, 5, 1, 6), mean = mu, stddev = sigma), name=\"W1\")\n",
    "    x = tf.nn.conv2d(x, W1, strides=[1, 1, 1, 1], padding='VALID')\n",
    "    b1 = tf.Variable(tf.zeros(6), name=\"b1\")\n",
    "    x = tf.nn.bias_add(x, b1)\n",
    "    print(\"layer 1 shape:\",x.get_shape())\n",
    "\n",
    "    # TODO: Activation.\n",
    "    x = tf.nn.relu(x)\n",
    "    \n",
    "    # TODO: Pooling. Input = 28x28x6. Output = 14x14x6.\n",
    "    x = tf.nn.max_pool(x, ksize=[1, 2, 2, 1], strides=[1, 2, 2, 1], padding='VALID')\n",
    "    layer1 = x\n",
    "    \n",
    "    # TODO: Layer 2: Convolutional. Output = 10x10x16.\n",
    "    W2 = tf.Variable(tf.truncated_normal(shape=(5, 5, 6, 16), mean = mu, stddev = sigma), name=\"W2\")\n",
    "    x = tf.nn.conv2d(x, W2, strides=[1, 1, 1, 1], padding='VALID')\n",
    "    b2 = tf.Variable(tf.zeros(16), name=\"b2\")\n",
    "    x = tf.nn.bias_add(x, b2)\n",
    "                     \n",
    "    # TODO: Activation.\n",
    "    x = tf.nn.relu(x)\n",
    "\n",
    "    # TODO: Pooling. Input = 10x10x16. Output = 5x5x16.\n",
    "    x = tf.nn.max_pool(x, ksize=[1, 2, 2, 1], strides=[1, 2, 2, 1], padding='VALID')\n",
    "    layer2 = x\n",
    "    \n",
    "    # TODO: Layer 3: Convolutional. Output = 1x1x400.\n",
    "    W3 = tf.Variable(tf.truncated_normal(shape=(5, 5, 16, 400), mean = mu, stddev = sigma), name=\"W3\")\n",
    "    x = tf.nn.conv2d(x, W3, strides=[1, 1, 1, 1], padding='VALID')\n",
    "    b3 = tf.Variable(tf.zeros(400), name=\"b3\")\n",
    "    x = tf.nn.bias_add(x, b3)\n",
    "                     \n",
    "    # TODO: Activation.\n",
    "    x = tf.nn.relu(x)\n",
    "    layer3 = x\n",
    "\n",
    "    # TODO: Flatten. Input = 5x5x16. Output = 400.\n",
    "    layer2flat = flatten(layer2)\n",
    "    print(\"layer2flat shape:\",layer2flat.get_shape())\n",
    "    \n",
    "    # Flatten x. Input = 1x1x400. Output = 400.\n",
    "    xflat = flatten(x)\n",
    "    print(\"xflat shape:\",xflat.get_shape())\n",
    "    \n",
    "    # Concat layer2flat and x. Input = 400 + 400. Output = 800\n",
    "    x = tf.concat_v2([xflat, layer2flat], 1)\n",
    "    print(\"x shape:\",x.get_shape())\n",
    "    \n",
    "    # Dropout\n",
    "    x = tf.nn.dropout(x, keep_prob)\n",
    "    \n",
    "    # TODO: Layer 4: Fully Connected. Input = 800. Output = 43.\n",
    "    W4 = tf.Variable(tf.truncated_normal(shape=(800, 43), mean = mu, stddev = sigma), name=\"W4\")\n",
    "    b4 = tf.Variable(tf.zeros(43), name=\"b4\")    \n",
    "    logits = tf.add(tf.matmul(x, W4), b4)\n",
    "    \n",
    "    # TODO: Activation.\n",
    "    #logits = tf.nn.relu(x)\n",
    "\n",
    "    #TODO: Layer 5: Fully Connected. Input = 120. Output = 84.\n",
    "    #W5 = tf.Variable(tf.truncated_normal(shape=(120, 84), mean = mu, stddev = sigma))\n",
    "    #b5 = tf.Variable(tf.zeros(84)) \n",
    "    #x = tf.add(tf.matmul(x, W5), b5)\n",
    "    \n",
    "    # TODO: Activation.\n",
    "    #x = tf.nn.relu(x)\n",
    "\n",
    "    # TODO: Layer 6: Fully Connected. Input = 84. Output = 43.\n",
    "    #W6 = tf.Variable(tf.truncated_normal(shape=(84, 43), mean = mu, stddev = sigma))\n",
    "    #b6 = tf.Variable(tf.zeros(43)) \n",
    "    #logits = tf.add(tf.matmul(x, W6), b6)\n",
    "    \n",
    "    return logits\n",
    "\n",
    "print('done')"
   ]
  },
  {
   "cell_type": "markdown",
   "metadata": {},
   "source": [
    "### Train, Validate and Test the Model"
   ]
  },
  {
   "cell_type": "markdown",
   "metadata": {},
   "source": [
    "A validation set can be used to assess how well the model is performing. A low accuracy on the training and validation\n",
    "sets imply underfitting. A high accuracy on the training set but low accuracy on the validation set implies overfitting."
   ]
  },
  {
   "cell_type": "markdown",
   "metadata": {},
   "source": [
    "## Note : Taining the Model"
   ]
  },
  {
   "cell_type": "code",
   "execution_count": 18,
   "metadata": {
    "collapsed": true
   },
   "outputs": [],
   "source": [
    "### Train your model here.\n",
    "### Calculate and report the accuracy on the training and validation set.\n",
    "### Once a final model architecture is selected, \n",
    "### the accuracy on the test set should be calculated and reported as well.\n",
    "### Feel free to use as many code cells as needed.\n",
    "\n",
    "#x = tf.placeholder(tf.float32, (None, 32, 32, 3))\n",
    "x = tf.placeholder(tf.float32, (None, 32, 32, 1))\n",
    "y = tf.placeholder(tf.int32, (None))\n",
    "keep_prob = tf.placeholder(tf.float32) # probability to keep units\n",
    "one_hot_y = tf.one_hot(y, 43)\n",
    "\n",
    "\n"
   ]
  },
  {
   "cell_type": "code",
   "execution_count": 19,
   "metadata": {},
   "outputs": [
    {
     "name": "stdout",
     "output_type": "stream",
     "text": [
      "layer 1 shape: (?, 28, 28, 6)\n",
      "layer2flat shape: (?, 400)\n",
      "xflat shape: (?, 400)\n",
      "x shape: (?, 800)\n"
     ]
    }
   ],
   "source": [
    "#logits = LeNet(x)\n",
    "#logits = LeNetGry(x)\n",
    "logits = LeNet2(x)\n",
    "cross_entropy = tf.nn.softmax_cross_entropy_with_logits(labels=one_hot_y, logits=logits)\n",
    "loss_operation = tf.reduce_mean(cross_entropy)\n",
    "optimizer = tf.train.AdamOptimizer(learning_rate = rate)\n",
    "training_operation = optimizer.minimize(loss_operation)"
   ]
  },
  {
   "cell_type": "code",
   "execution_count": 20,
   "metadata": {},
   "outputs": [],
   "source": [
    "rate = 0.001\n",
    "\n",
    "\n",
    "\n",
    "correct_prediction = tf.equal(tf.argmax(logits, 1), tf.argmax(one_hot_y, 1))\n",
    "accuracy_operation = tf.reduce_mean(tf.cast(correct_prediction, tf.float32))\n",
    "saver = tf.train.Saver()\n",
    "\n",
    "def evaluate(X_data, y_data):\n",
    "    num_examples = len(X_data)\n",
    "    total_accuracy = 0\n",
    "    sess = tf.get_default_session()\n",
    "    for offset in range(0, num_examples, BATCH_SIZE):\n",
    "        batch_x, batch_y = X_data[offset:offset+BATCH_SIZE], y_data[offset:offset+BATCH_SIZE]\n",
    "        accuracy = sess.run(accuracy_operation, feed_dict={x: batch_x, y: batch_y, keep_prob: 1.0})\n",
    "        total_accuracy += (accuracy * len(batch_x))\n",
    "    return total_accuracy / num_examples\n"
   ]
  },
  {
   "cell_type": "code",
   "execution_count": 35,
   "metadata": {},
   "outputs": [
    {
     "name": "stdout",
     "output_type": "stream",
     "text": [
      "Training...\n",
      "\n",
      "EPOCH 1 ...\n",
      "Validation Accuracy = 0.933\n",
      "\n",
      "EPOCH 2 ...\n",
      "Validation Accuracy = 0.972\n",
      "\n",
      "EPOCH 3 ...\n",
      "Validation Accuracy = 0.982\n",
      "\n",
      "EPOCH 4 ...\n",
      "Validation Accuracy = 0.990\n",
      "\n",
      "EPOCH 5 ...\n",
      "Validation Accuracy = 0.993\n",
      "\n",
      "EPOCH 6 ...\n",
      "Validation Accuracy = 0.995\n",
      "\n",
      "EPOCH 7 ...\n",
      "Validation Accuracy = 0.997\n",
      "\n",
      "EPOCH 8 ...\n",
      "Validation Accuracy = 0.996\n",
      "\n",
      "EPOCH 9 ...\n",
      "Validation Accuracy = 0.998\n",
      "\n",
      "EPOCH 10 ...\n",
      "Validation Accuracy = 0.998\n",
      "\n",
      "EPOCH 11 ...\n",
      "Validation Accuracy = 0.998\n",
      "\n",
      "EPOCH 12 ...\n",
      "Validation Accuracy = 0.999\n",
      "\n",
      "EPOCH 13 ...\n",
      "Validation Accuracy = 0.999\n",
      "\n",
      "EPOCH 14 ...\n",
      "Validation Accuracy = 0.999\n",
      "\n",
      "EPOCH 15 ...\n",
      "Validation Accuracy = 0.999\n",
      "\n",
      "EPOCH 16 ...\n",
      "Validation Accuracy = 0.999\n",
      "\n",
      "EPOCH 17 ...\n",
      "Validation Accuracy = 1.000\n",
      "\n",
      "EPOCH 18 ...\n",
      "Validation Accuracy = 1.000\n",
      "\n",
      "EPOCH 19 ...\n",
      "Validation Accuracy = 0.999\n",
      "\n",
      "EPOCH 20 ...\n",
      "Validation Accuracy = 1.000\n",
      "\n",
      "Model saved\n"
     ]
    }
   ],
   "source": [
    "with tf.Session() as sess:\n",
    "    sess.run(tf.global_variables_initializer())\n",
    "    num_examples = len(X_train)\n",
    "    \n",
    "    print(\"Training...\")\n",
    "    print()\n",
    "    for i in range(EPOCHS):\n",
    "        X_train, y_train = shuffle(X_train, y_train)\n",
    "        for offset in range(0, num_examples, BATCH_SIZE):\n",
    "            end = offset + BATCH_SIZE\n",
    "            batch_x, batch_y = X_train[offset:end], y_train[offset:end]\n",
    "            sess.run(training_operation, feed_dict={x: batch_x, y: batch_y,keep_prob: 0.5})\n",
    "            \n",
    "        validation_accuracy = evaluate(X_valid, y_valid)\n",
    "        print(\"EPOCH {} ...\".format(i+1))\n",
    "        print(\"Validation Accuracy = {:.3f}\".format(validation_accuracy))\n",
    "        print()\n",
    "        \n",
    "    saver.save(sess, './lenet')\n",
    "    print(\"Model saved\")"
   ]
  },
  {
   "cell_type": "markdown",
   "metadata": {},
   "source": [
    "## Note: LeNET2 achieved a 99.9% accuracy after 20 epochs with a Learning Rate of 0.001 and batch size 128.  When tested with Test Dataset, the network accuracy was at 94.2%"
   ]
  },
  {
   "cell_type": "code",
   "execution_count": 43,
   "metadata": {},
   "outputs": [
    {
     "name": "stdout",
     "output_type": "stream",
     "text": [
      "Test Accuracy = 0.936\n"
     ]
    }
   ],
   "source": [
    "with tf.Session() as sess:\n",
    "    saver.restore(sess, tf.train.latest_checkpoint('.'))\n",
    "\n",
    "    test_accuracy = evaluate(X_test, y_test)\n",
    "    print(\"Test Accuracy = {:.3f}\".format(test_accuracy))"
   ]
  },
  {
   "cell_type": "code",
   "execution_count": 42,
   "metadata": {},
   "outputs": [
    {
     "name": "stdout",
     "output_type": "stream",
     "text": [
      "validation Accuracy = 1.000\n"
     ]
    }
   ],
   "source": [
    "with tf.Session() as sess:\n",
    "    saver.restore(sess, tf.train.latest_checkpoint('.'))\n",
    "\n",
    "    validation_accuracy = evaluate(X_valid, y_valid)\n",
    "    print(\"validation Accuracy = {:.3f}\".format(validation_accuracy))"
   ]
  },
  {
   "cell_type": "markdown",
   "metadata": {},
   "source": [
    "---\n",
    "\n",
    "## Step 3: Test a Model on New Images\n",
    "\n",
    "To give yourself more insight into how your model is working, download at least five pictures of German traffic signs from the web and use your model to predict the traffic sign type.\n",
    "\n",
    "You may find `signnames.csv` useful as it contains mappings from the class id (integer) to the actual sign name."
   ]
  },
  {
   "cell_type": "markdown",
   "metadata": {},
   "source": [
    "### Load and Output the Images"
   ]
  },
  {
   "cell_type": "code",
   "execution_count": 44,
   "metadata": {},
   "outputs": [
    {
     "name": "stdout",
     "output_type": "stream",
     "text": [
      "(8, 32, 32, 1)\n"
     ]
    },
    {
     "data": {
      "image/png": "[encoded data removed]",
      "text/plain": [
       "<matplotlib.figure.Figure at 0x32241ad0f0>"
      ]
     },
     "metadata": {},
     "output_type": "display_data"
    }
   ],
   "source": [
    "## Load the images and plot them here.\n",
    "### Feel free to use as many code cells as needed.\n",
    "\n",
    "# Reinitialize and re-import if starting a new kernel here\n",
    "import matplotlib.pyplot as plt\n",
    "%matplotlib inline\n",
    "\n",
    "import tensorflow as tf\n",
    "import numpy as np\n",
    "import cv2\n",
    "#reading in an image\n",
    "import glob\n",
    "import matplotlib.image as mpimg\n",
    "\n",
    "fig, axs = plt.subplots(2,4, figsize=(4, 2))\n",
    "fig.subplots_adjust(hspace = .2, wspace=.001)\n",
    "axs = axs.ravel()\n",
    "\n",
    "my_images = []\n",
    "\n",
    "for i, img in enumerate(glob.glob('./test_pics/*x.png')):\n",
    "    image = cv2.imread(img)\n",
    "    axs[i].axis('off')\n",
    "    axs[i].imshow(cv2.cvtColor(image, cv2.COLOR_BGR2RGB))\n",
    "    my_images.append(image)\n",
    "\n",
    "my_images = np.asarray(my_images)\n",
    "\n",
    "my_images_gry = np.sum(my_images/3, axis=3, keepdims=True)\n",
    "\n",
    "my_images_normalized = (my_images_gry - 128)/128 \n",
    "\n",
    "print(my_images_normalized.shape)"
   ]
  },
  {
   "cell_type": "markdown",
   "metadata": {},
   "source": [
    "### Predict the Sign Type for Each Image"
   ]
  },
  {
   "cell_type": "code",
   "execution_count": 45,
   "metadata": {},
   "outputs": [],
   "source": [
    "### Run the predictions here and use the model to output the prediction for each image.\n",
    "### Make sure to pre-process the images with the same pre-processing pipeline used earlier.\n",
    "### Feel free to use as many code cells as needed.\n",
    "\n",
    "with tf.Session() as sess:\n",
    "    saver.restore(sess, './lenet')\n",
    "\n",
    "    new_pics_classes = sess.run(logits, feed_dict={x: my_images_normalized, keep_prob : 1.0})\n",
    "    #print(new_pics_classes)\n",
    "    \n",
    "    \n"
   ]
  },
  {
   "cell_type": "markdown",
   "metadata": {},
   "source": [
    "### Analyze Performance"
   ]
  },
  {
   "cell_type": "code",
   "execution_count": 46,
   "metadata": {},
   "outputs": [
    {
     "name": "stdout",
     "output_type": "stream",
     "text": [
      "Test Set Accuracy = 0.875\n"
     ]
    }
   ],
   "source": [
    "my_labels = [3, 11, 1, 12, 38, 34, 18, 25]\n",
    "\n",
    "\n",
    "with tf.Session() as sess:\n",
    "    sess.run(tf.global_variables_initializer())\n",
    "    saver3 = tf.train.import_meta_graph('./lenet.meta')\n",
    "    saver3.restore(sess, \"./lenet\")\n",
    "    my_accuracy = evaluate(my_images_normalized, my_labels)\n",
    "    print(\"Test Set Accuracy = {:.3f}\".format(my_accuracy))"
   ]
  },
  {
   "cell_type": "markdown",
   "metadata": {},
   "source": [
    "### Output Top 5 Softmax Probabilities For Each Image Found on the Web"
   ]
  },
  {
   "cell_type": "markdown",
   "metadata": {},
   "source": [
    "For each of the new images, print out the model's softmax probabilities to show the **certainty** of the model's predictions (limit the output to the top 5 probabilities for each image). [`tf.nn.top_k`](https://www.tensorflow.org/versions/r0.12/api_docs/python/nn.html#top_k) could prove helpful here. \n",
    "\n",
    "The example below demonstrates how tf.nn.top_k can be used to find the top k predictions for each image.\n",
    "\n",
    "`tf.nn.top_k` will return the values and indices (class ids) of the top k predictions. So if k=3, for each sign, it'll return the 3 largest probabilities (out of a possible 43) and the correspoding class ids.\n",
    "\n",
    "Take this numpy array as an example. The values in the array represent predictions. The array contains softmax probabilities for five candidate images with six possible classes. `tf.nn.top_k` is used to choose the three classes with the highest probability:\n",
    "\n",
    "```\n",
    "# (5, 6) array\n",
    "a = np.array([[ 0.24879643,  0.07032244,  0.12641572,  0.34763842,  0.07893497,\n",
    "         0.12789202],\n",
    "       [ 0.28086119,  0.27569815,  0.08594638,  0.0178669 ,  0.18063401,\n",
    "         0.15899337],\n",
    "       [ 0.26076848,  0.23664738,  0.08020603,  0.07001922,  0.1134371 ,\n",
    "         0.23892179],\n",
    "       [ 0.11943333,  0.29198961,  0.02605103,  0.26234032,  0.1351348 ,\n",
    "         0.16505091],\n",
    "       [ 0.09561176,  0.34396535,  0.0643941 ,  0.16240774,  0.24206137,\n",
    "         0.09155967]])\n",
    "```\n",
    "\n",
    "Running it through `sess.run(tf.nn.top_k(tf.constant(a), k=3))` produces:\n",
    "\n",
    "```\n",
    "TopKV2(values=array([[ 0.34763842,  0.24879643,  0.12789202],\n",
    "       [ 0.28086119,  0.27569815,  0.18063401],\n",
    "       [ 0.26076848,  0.23892179,  0.23664738],\n",
    "       [ 0.29198961,  0.26234032,  0.16505091],\n",
    "       [ 0.34396535,  0.24206137,  0.16240774]]), indices=array([[3, 0, 5],\n",
    "       [0, 1, 4],\n",
    "       [0, 5, 1],\n",
    "       [1, 3, 5],\n",
    "       [1, 4, 3]], dtype=int32))\n",
    "```\n",
    "\n",
    "Looking just at the first row we get `[ 0.34763842,  0.24879643,  0.12789202]`, you can confirm these are the 3 largest probabilities in `a`. You'll also notice `[3, 0, 5]` are the corresponding indices."
   ]
  },
  {
   "cell_type": "code",
   "execution_count": 47,
   "metadata": {},
   "outputs": [
    {
     "name": "stdout",
     "output_type": "stream",
     "text": [
      "Image 0 probabilities: [ 15.00885487   5.68927765   3.32468414   2.39536357   1.22245729] \n",
      " and predicted classes: [ 3  2 25 23 31]\n",
      "Image 1 probabilities: [ 50.19784927  31.10246849   2.30771112  -0.8203792   -0.88035679] \n",
      " and predicted classes: [11 30 21 25 27]\n",
      "Image 2 probabilities: [ 32.224823    18.80678749   3.97828841   2.21679807  -2.29284239] \n",
      " and predicted classes: [1 2 3 5 0]\n",
      "Image 3 probabilities: [ 41.22346115   3.12543797   2.51411724  -1.78240538  -3.54401612] \n",
      " and predicted classes: [12 40 42 11  7]\n",
      "Image 4 probabilities: [ 89.36756897  10.60931492  -2.6554482   -4.14733934  -6.65848923] \n",
      " and predicted classes: [38  0  2 40  8]\n",
      "Image 5 probabilities: [ 30.24516678  13.31952477   3.75277686   2.59103799   1.32703495] \n",
      " and predicted classes: [34 38 28 15 36]\n",
      "Image 6 probabilities: [ 50.1262207   13.43820667   6.00323153   2.42330599   2.00363088] \n",
      " and predicted classes: [18 26 11 24 27]\n",
      "Image 7 probabilities: [ 2.56840324  1.78362381  1.38213563  1.12917006 -1.69179034] \n",
      " and predicted classes: [ 1 25 10 37 31]\n"
     ]
    }
   ],
   "source": [
    "### Visualize the softmax probabilities here.\n",
    "### Feel free to use as many code cells as needed.\n",
    "with tf.Session() as sess:\n",
    "    predicts = sess.run(tf.nn.top_k(new_pics_classes, k=5, sorted=True))\n",
    "    my_top_k = predicts\n",
    "    \n",
    "for i in range(len(predicts[0])):\n",
    "    print('Image', i, 'probabilities:', predicts[0][i], '\\n and predicted classes:', predicts[1][i])"
   ]
  },
  {
   "cell_type": "code",
   "execution_count": 34,
   "metadata": {
    "scrolled": true
   },
   "outputs": [
    {
     "data": {
      "image/png": "[encoded data removed]",
      "text/plain": [
       "<matplotlib.figure.Figure at 0x32243647b8>"
      ]
     },
     "metadata": {},
     "output_type": "display_data"
    }
   ],
   "source": [
    "fig, axs = plt.subplots(len(my_images),4, figsize=(12, 14))\n",
    "fig.subplots_adjust(hspace = .4, wspace=.2)\n",
    "axs = axs.ravel()\n",
    "\n",
    "for i, image in enumerate(my_images):\n",
    "        axs[4*i].axis('off')\n",
    "        axs[4*i].imshow(cv2.cvtColor(image, cv2.COLOR_BGR2RGB))\n",
    "        axs[4*i].set_title('input')\n",
    "        guess1 = my_top_k[1][i][0]\n",
    "        index1 = np.argwhere(y_valid == guess1)[0]\n",
    "        axs[4*i+1].axis('off')\n",
    "        axs[4*i+1].imshow(X_valid[index1].squeeze(), cmap='gray')\n",
    "        axs[4*i+1].set_title('top guess: {} ({:.0f}%)'.format(guess1, 1.00*my_top_k[0][i][0]))\n",
    "        guess2 = my_top_k[1][i][1]\n",
    "        index2 = np.argwhere(y_valid == guess2)[0]\n",
    "        axs[4*i+2].axis('off')\n",
    "        axs[4*i+2].imshow(X_valid[index2].squeeze(), cmap='gray')\n",
    "        axs[4*i+2].set_title('2nd guess: {} ({:.0f}%)'.format(guess2, 1.00*my_top_k[0][i][1]))\n",
    "        guess3 = my_top_k[1][i][2]\n",
    "        index3 = np.argwhere(y_valid == guess3)[0]\n",
    "        axs[4*i+3].axis('off')\n",
    "        axs[4*i+3].imshow(X_valid[index3].squeeze(), cmap='gray')\n",
    "        axs[4*i+3].set_title('3rd guess: {} ({:.0f}%)'.format(guess3, 1.00*my_top_k[0][i][2]))"
   ]
  },
  {
   "cell_type": "code",
   "execution_count": null,
   "metadata": {
    "collapsed": true
   },
   "outputs": [],
   "source": [
    "### Print out the top five softmax probabilities for the predictions on the German traffic sign images found on the web. \n",
    "### Feel free to use as many code cells as needed."
   ]
  },
  {
   "cell_type": "markdown",
   "metadata": {},
   "source": [
    "### Project Writeup\n",
    "\n",
    "Once you have completed the code implementation, document your results in a project writeup using this [template](https://github.com/udacity/CarND-Traffic-Sign-Classifier-Project/blob/master/writeup_template.md) as a guide. The writeup can be in a markdown or pdf file. "
   ]
  },
  {
   "cell_type": "markdown",
   "metadata": {},
   "source": [
    "> **Note**: Once you have completed all of the code implementations and successfully answered each question above, you may finalize your work by exporting the iPython Notebook as an HTML document. You can do this by using the menu above and navigating to  \\n\",\n",
    "    \"**File -> Download as -> HTML (.html)**. Include the finished document along with this notebook as your submission."
   ]
  },
  {
   "cell_type": "markdown",
   "metadata": {},
   "source": [
    "---\n",
    "\n",
    "## Step 4 (Optional): Visualize the Neural Network's State with Test Images\n",
    "\n",
    " This Section is not required to complete but acts as an additional excersise for understaning the output of a neural network's weights. While neural networks can be a great learning device they are often referred to as a black box. We can understand what the weights of a neural network look like better by plotting their feature maps. After successfully training your neural network you can see what it's feature maps look like by plotting the output of the network's weight layers in response to a test stimuli image. From these plotted feature maps, it's possible to see what characteristics of an image the network finds interesting. For a sign, maybe the inner network feature maps react with high activation to the sign's boundary outline or to the contrast in the sign's painted symbol.\n",
    "\n",
    " Provided for you below is the function code that allows you to get the visualization output of any tensorflow weight layer you want. The inputs to the function should be a stimuli image, one used during training or a new one you provided, and then the tensorflow variable name that represents the layer's state during the training process, for instance if you wanted to see what the [LeNet lab's](https://classroom.udacity.com/nanodegrees/nd013/parts/fbf77062-5703-404e-b60c-95b78b2f3f9e/modules/6df7ae49-c61c-4bb2-a23e-6527e69209ec/lessons/601ae704-1035-4287-8b11-e2c2716217ad/concepts/d4aca031-508f-4e0b-b493-e7b706120f81) feature maps looked like for it's second convolutional layer you could enter conv2 as the tf_activation variable.\n",
    "\n",
    "For an example of what feature map outputs look like, check out NVIDIA's results in their paper [End-to-End Deep Learning for Self-Driving Cars](https://devblogs.nvidia.com/parallelforall/deep-learning-self-driving-cars/) in the section Visualization of internal CNN State. NVIDIA was able to show that their network's inner weights had high activations to road boundary lines by comparing feature maps from an image with a clear path to one without. Try experimenting with a similar test to show that your trained network's weights are looking for interesting features, whether it's looking at differences in feature maps from images with or without a sign, or even what feature maps look like in a trained network vs a completely untrained one on the same sign image.\n",
    "\n",
    "<figure>\n",
    " <img src=\"visualize_cnn.png\" width=\"380\" alt=\"Combined Image\" />\n",
    " <figcaption>\n",
    " <p></p> \n",
    " <p style=\"text-align: center;\"> Your output should look something like this (above)</p> \n",
    " </figcaption>\n",
    "</figure>\n",
    " <p></p> \n"
   ]
  },
  {
   "cell_type": "code",
   "execution_count": null,
   "metadata": {
    "collapsed": true
   },
   "outputs": [],
   "source": [
    "### Visualize your network's feature maps here.\n",
    "### Feel free to use as many code cells as needed.\n",
    "\n",
    "# image_input: the test image being fed into the network to produce the feature maps\n",
    "# tf_activation: should be a tf variable name used during your training procedure that represents the calculated state of a specific weight layer\n",
    "# activation_min/max: can be used to view the activation contrast in more detail, by default matplot sets min and max to the actual min and max values of the output\n",
    "# plt_num: used to plot out multiple different weight feature map sets on the same block, just extend the plt number for each new feature map entry\n",
    "\n",
    "def outputFeatureMap(image_input, tf_activation, activation_min=-1, activation_max=-1 ,plt_num=1):\n",
    "    # Here make sure to preprocess your image_input in a way your network expects\n",
    "    # with size, normalization, ect if needed\n",
    "    # image_input =\n",
    "    # Note: x should be the same name as your network's tensorflow data placeholder variable\n",
    "    # If you get an error tf_activation is not defined it may be having trouble accessing the variable from inside a function\n",
    "    activation = tf_activation.eval(session=sess,feed_dict={x : image_input})\n",
    "    featuremaps = activation.shape[3]\n",
    "    plt.figure(plt_num, figsize=(15,15))\n",
    "    for featuremap in range(featuremaps):\n",
    "        plt.subplot(6,8, featuremap+1) # sets the number of feature maps to show on each row and column\n",
    "        plt.title('FeatureMap ' + str(featuremap)) # displays the feature map number\n",
    "        if activation_min != -1 & activation_max != -1:\n",
    "            plt.imshow(activation[0,:,:, featuremap], interpolation=\"nearest\", vmin =activation_min, vmax=activation_max, cmap=\"gray\")\n",
    "        elif activation_max != -1:\n",
    "            plt.imshow(activation[0,:,:, featuremap], interpolation=\"nearest\", vmax=activation_max, cmap=\"gray\")\n",
    "        elif activation_min !=-1:\n",
    "            plt.imshow(activation[0,:,:, featuremap], interpolation=\"nearest\", vmin=activation_min, cmap=\"gray\")\n",
    "        else:\n",
    "            plt.imshow(activation[0,:,:, featuremap], interpolation=\"nearest\", cmap=\"gray\")"
   ]
  },
  {
   "cell_type": "markdown",
   "metadata": {},
   "source": [
    "Log\n",
    "\n",
    "Training... \n",
    "Graystylel;Normalized;InputNotDistorted;Rate:0.001;BatchSize:128;Keep_Prob:0.5\n",
    "\n",
    "EPOCH 1 ...\n",
    "Validation Accuracy = 0.390\n",
    "\n",
    "EPOCH 2 ...\n",
    "Validation Accuracy = 0.637\n",
    "\n",
    "EPOCH 3 ...\n",
    "Validation Accuracy = 0.673\n",
    "\n",
    "EPOCH 4 ...\n",
    "Validation Accuracy = 0.749\n",
    "\n",
    "EPOCH 5 ...\n",
    "Validation Accuracy = 0.739\n",
    "\n",
    "EPOCH 6 ...\n",
    "Validation Accuracy = 0.797\n",
    "\n",
    "EPOCH 7 ...\n",
    "Validation Accuracy = 0.795\n",
    "\n",
    "EPOCH 8 ...\n",
    "Validation Accuracy = 0.744\n",
    "\n",
    "EPOCH 9 ...\n",
    "Validation Accuracy = 0.773\n",
    "\n",
    "EPOCH 10 ...\n",
    "Validation Accuracy = 0.811\n",
    "\n",
    "EPOCH 11 ...\n",
    "Validation Accuracy = 0.821\n",
    "\n",
    "EPOCH 12 ...\n",
    "Validation Accuracy = 0.806\n",
    "\n",
    "EPOCH 13 ...\n",
    "Validation Accuracy = 0.803\n",
    "\n",
    "EPOCH 14 ...\n",
    "Validation Accuracy = 0.765\n",
    "\n",
    "EPOCH 15 ...\n",
    "Validation Accuracy = 0.839\n",
    "\n",
    "EPOCH 16 ...\n",
    "Validation Accuracy = 0.844\n",
    "\n",
    "EPOCH 17 ...\n",
    "Validation Accuracy = 0.849\n",
    "\n",
    "EPOCH 18 ...\n",
    "Validation Accuracy = 0.871\n",
    "\n",
    "EPOCH 19 ...\n",
    "Validation Accuracy = 0.823\n",
    "\n",
    "EPOCH 20 ...\n",
    "Validation Accuracy = 0.808\n",
    "\n",
    "EPOCH 21 ...\n",
    "Validation Accuracy = 0.801\n",
    "\n",
    "EPOCH 22 ...\n",
    "Validation Accuracy = 0.802\n",
    "\n",
    "EPOCH 23 ...\n",
    "Validation Accuracy = 0.872\n",
    "\n",
    "EPOCH 24 ...\n",
    "Validation Accuracy = 0.868\n",
    "\n",
    "EPOCH 25 ...\n",
    "Validation Accuracy = 0.878\n",
    "\n",
    "EPOCH 26 ...\n",
    "Validation Accuracy = 0.804\n",
    "\n",
    "EPOCH 27 ...\n",
    "Validation Accuracy = 0.803\n",
    "\n",
    "EPOCH 28 ...\n",
    "Validation Accuracy = 0.820\n",
    "\n",
    "EPOCH 29 ...\n",
    "Validation Accuracy = 0.859\n",
    "\n",
    "EPOCH 30 ...\n",
    "Validation Accuracy = 0.880\n",
    "\n",
    "EPOCH 31 ...\n",
    "Validation Accuracy = 0.857\n",
    "\n",
    "EPOCH 32 ...\n",
    "Validation Accuracy = 0.839\n",
    "\n",
    "EPOCH 33 ...\n",
    "Validation Accuracy = 0.853\n",
    "\n",
    "EPOCH 34 ...\n",
    "Validation Accuracy = 0.793\n",
    "\n",
    "EPOCH 35 ...\n",
    "Validation Accuracy = 0.857\n",
    "\n",
    "EPOCH 36 ...\n",
    "Validation Accuracy = 0.868\n",
    "\n",
    "EPOCH 37 ...\n",
    "Validation Accuracy = 0.855\n",
    "\n",
    "EPOCH 38 ...\n",
    "Validation Accuracy = 0.839\n",
    "\n",
    "EPOCH 39 ...\n",
    "Validation Accuracy = 0.841\n",
    "\n",
    "EPOCH 40 ...\n",
    "Validation Accuracy = 0.827\n",
    "\n",
    "Model saved\n",
    "\n",
    "\n",
    "Training...\n",
    "Graystylel;Normalized;InputAugmented;Rate:0.001;BatchSize:128;Keep_Prob:0.5\n",
    "EPOCH 1 ...\n",
    "Validation Accuracy = 0.492\n",
    "\n",
    "EPOCH 2 ...\n",
    "Validation Accuracy = 0.576\n",
    "\n",
    "EPOCH 3 ...\n",
    "Validation Accuracy = 0.574\n",
    "\n",
    "EPOCH 4 ...\n",
    "Validation Accuracy = 0.628\n",
    "\n",
    "EPOCH 5 ...\n",
    "Validation Accuracy = 0.559\n",
    "\n",
    "EPOCH 6 ...\n",
    "Validation Accuracy = 0.663\n",
    "\n",
    "EPOCH 7 ...\n",
    "Validation Accuracy = 0.629\n",
    "\n",
    "EPOCH 8 ...\n",
    "Validation Accuracy = 0.628\n",
    "\n",
    "EPOCH 9 ...\n",
    "Validation Accuracy = 0.666\n",
    "\n",
    "EPOCH 10 ...\n",
    "Validation Accuracy = 0.694\n",
    "\n",
    "EPOCH 11 ...\n",
    "Validation Accuracy = 0.692\n",
    "\n",
    "EPOCH 12 ...\n",
    "Validation Accuracy = 0.649\n",
    "\n",
    "EPOCH 13 ...\n",
    "Validation Accuracy = 0.671\n",
    "\n",
    "EPOCH 14 ...\n",
    "Validation Accuracy = 0.660\n",
    "\n",
    "EPOCH 15 ...\n",
    "Validation Accuracy = 0.697\n",
    "\n",
    "EPOCH 16 ...\n",
    "Validation Accuracy = 0.674\n",
    "\n",
    "EPOCH 17 ...\n",
    "Validation Accuracy = 0.716\n",
    "\n",
    "EPOCH 18 ...\n",
    "Validation Accuracy = 0.677\n",
    "\n",
    "EPOCH 19 ...\n",
    "Validation Accuracy = 0.697\n",
    "\n",
    "EPOCH 20 ...\n",
    "Validation Accuracy = 0.738\n",
    "\n",
    "EPOCH 21 ...\n",
    "Validation Accuracy = 0.718\n",
    "\n",
    "EPOCH 22 ...\n",
    "Validation Accuracy = 0.741\n",
    "\n",
    "EPOCH 23 ...\n",
    "Validation Accuracy = 0.714\n",
    "\n",
    "EPOCH 24 ...\n",
    "Validation Accuracy = 0.734\n",
    "\n",
    "EPOCH 25 ...\n",
    "Validation Accuracy = 0.710\n",
    "\n",
    "EPOCH 26 ...\n",
    "Validation Accuracy = 0.671\n",
    "\n",
    "EPOCH 27 ...\n",
    "Validation Accuracy = 0.707\n",
    "\n",
    "EPOCH 28 ...\n",
    "Validation Accuracy = 0.697\n",
    "\n",
    "EPOCH 29 ...\n",
    "Validation Accuracy = 0.741\n",
    "\n",
    "EPOCH 30 ...\n",
    "Validation Accuracy = 0.744\n",
    "\n",
    "EPOCH 31 ...\n",
    "Validation Accuracy = 0.744\n",
    "\n",
    "EPOCH 32 ...\n",
    "Validation Accuracy = 0.749\n",
    "\n",
    "EPOCH 33 ...\n",
    "Validation Accuracy = 0.740\n",
    "\n",
    "EPOCH 34 ...\n",
    "Validation Accuracy = 0.735\n",
    "\n",
    "EPOCH 35 ...\n",
    "Validation Accuracy = 0.811\n",
    "\n",
    "EPOCH 36 ...\n",
    "Validation Accuracy = 0.772\n",
    "\n",
    "EPOCH 37 ...\n",
    "Validation Accuracy = 0.795\n",
    "\n",
    "EPOCH 38 ...\n",
    "Validation Accuracy = 0.789\n",
    "\n",
    "EPOCH 39 ...\n",
    "Validation Accuracy = 0.788\n",
    "\n",
    "EPOCH 40 ...\n",
    "Validation Accuracy = 0.784\n",
    "\n",
    "Model saved\n",
    "\n",
    "Training...\n",
    "Graystylel;Normalized;InputAugmented;Rate:0.001;BatchSize:128;Keep_Prob:0.5;discarded provided validation set and used one from training data\n",
    "EPOCH 1 ...\n",
    "Validation Accuracy = 0.764\n",
    "\n",
    "EPOCH 2 ...\n",
    "Validation Accuracy = 0.891\n",
    "\n",
    "EPOCH 3 ...\n",
    "Validation Accuracy = 0.929\n",
    "\n",
    "EPOCH 4 ...\n",
    "Validation Accuracy = 0.954\n",
    "\n",
    "EPOCH 5 ...\n",
    "Validation Accuracy = 0.961\n",
    "\n",
    "EPOCH 6 ...\n",
    "Validation Accuracy = 0.970\n",
    "\n",
    "EPOCH 7 ...\n",
    "Validation Accuracy = 0.976\n",
    "\n",
    "EPOCH 8 ...\n",
    "Validation Accuracy = 0.982\n",
    "\n",
    "EPOCH 9 ...\n",
    "Validation Accuracy = 0.984\n",
    "\n",
    "EPOCH 10 ...\n",
    "Validation Accuracy = 0.987\n",
    "\n",
    "EPOCH 11 ...\n",
    "Validation Accuracy = 0.990\n",
    "\n",
    "EPOCH 12 ...\n",
    "Validation Accuracy = 0.989\n",
    "\n",
    "EPOCH 13 ...\n",
    "Validation Accuracy = 0.992\n",
    "\n",
    "EPOCH 14 ...\n",
    "Validation Accuracy = 0.993\n",
    "\n",
    "EPOCH 15 ...\n",
    "Validation Accuracy = 0.992\n",
    "\n",
    "EPOCH 16 ...\n",
    "Validation Accuracy = 0.993\n",
    "\n",
    "EPOCH 17 ...\n",
    "Validation Accuracy = 0.994\n",
    "\n",
    "EPOCH 18 ...\n",
    "Validation Accuracy = 0.995\n",
    "\n",
    "EPOCH 19 ...\n",
    "Validation Accuracy = 0.996\n",
    "\n",
    "EPOCH 20 ...\n",
    "Validation Accuracy = 0.997\n",
    "\n",
    "EPOCH 21 ...\n",
    "Validation Accuracy = 0.997\n",
    "\n",
    "EPOCH 22 ...\n",
    "Validation Accuracy = 0.997\n",
    "\n",
    "EPOCH 23 ...\n",
    "Validation Accuracy = 0.997\n",
    "\n",
    "EPOCH 24 ...\n",
    "Validation Accuracy = 0.998\n",
    "\n",
    "EPOCH 25 ...\n",
    "Validation Accuracy = 0.997\n",
    "\n",
    "EPOCH 26 ...\n",
    "Validation Accuracy = 0.997\n",
    "\n",
    "EPOCH 27 ...\n",
    "Validation Accuracy = 0.999\n",
    "\n",
    "EPOCH 28 ...\n",
    "Validation Accuracy = 0.998\n",
    "\n",
    "EPOCH 29 ...\n",
    "Validation Accuracy = 0.997\n",
    "\n",
    "EPOCH 30 ...\n",
    "Validation Accuracy = 0.997\n",
    "\n",
    "EPOCH 31 ...\n",
    "Validation Accuracy = 0.997\n",
    "\n",
    "EPOCH 32 ...\n",
    "Validation Accuracy = 0.999\n",
    "\n",
    "EPOCH 33 ...\n",
    "Validation Accuracy = 0.998\n",
    "\n",
    "EPOCH 34 ...\n",
    "Validation Accuracy = 0.998\n",
    "\n",
    "EPOCH 35 ...\n",
    "Validation Accuracy = 0.998\n",
    "\n",
    "EPOCH 36 ...\n",
    "Validation Accuracy = 0.999\n",
    "\n",
    "EPOCH 37 ...\n",
    "Validation Accuracy = 0.998\n",
    "\n",
    "EPOCH 38 ...\n",
    "Validation Accuracy = 0.999\n",
    "\n",
    "EPOCH 39 ...\n",
    "Validation Accuracy = 0.999\n",
    "\n",
    "EPOCH 40 ...\n",
    "Validation Accuracy = 0.998\n",
    "\n",
    "Model saved\n",
    "\n",
    "\n",
    "    print(\"Model saved\")\n",
    "    \n",
    "Training...\n",
    "Graystylel;Normalized;InputAugmented and 10% of training data distorted;Rate:0.001;BatchSize:128;Keep_Prob:0.5;discarded provided validation set and used one from training data\n",
    "EPOCH 1 ...\n",
    "Validation Accuracy = 0.784\n",
    "\n",
    "EPOCH 2 ...\n",
    "Validation Accuracy = 0.882\n",
    "\n",
    "EPOCH 3 ...\n",
    "Validation Accuracy = 0.927\n",
    "\n",
    "EPOCH 4 ...\n",
    "Validation Accuracy = 0.950\n",
    "\n",
    "EPOCH 5 ...\n",
    "Validation Accuracy = 0.962\n",
    "\n",
    "EPOCH 6 ...\n",
    "Validation Accuracy = 0.971\n",
    "\n",
    "EPOCH 7 ...\n",
    "Validation Accuracy = 0.974\n",
    "\n",
    "EPOCH 8 ...\n",
    "Validation Accuracy = 0.979\n",
    "\n",
    "EPOCH 9 ...\n",
    "Validation Accuracy = 0.980\n",
    "\n",
    "EPOCH 10 ...\n",
    "Validation Accuracy = 0.983\n",
    "\n",
    "EPOCH 11 ...\n",
    "Validation Accuracy = 0.983\n",
    "\n",
    "EPOCH 12 ...\n",
    "Validation Accuracy = 0.982\n",
    "\n",
    "EPOCH 13 ...\n",
    "Validation Accuracy = 0.988\n",
    "\n",
    "EPOCH 14 ...\n",
    "Validation Accuracy = 0.990\n",
    "\n",
    "EPOCH 15 ...\n",
    "Validation Accuracy = 0.989\n",
    "\n",
    "EPOCH 16 ...\n",
    "Validation Accuracy = 0.991\n",
    "\n",
    "EPOCH 17 ...\n",
    "Validation Accuracy = 0.993\n",
    "\n",
    "EPOCH 18 ...\n",
    "Validation Accuracy = 0.992\n",
    "\n",
    "EPOCH 19 ...\n",
    "Validation Accuracy = 0.992\n",
    "\n",
    "EPOCH 20 ...\n",
    "Validation Accuracy = 0.993\n",
    "\n",
    "EPOCH 21 ...\n",
    "Validation Accuracy = 0.994\n",
    "\n",
    "EPOCH 22 ...\n",
    "Validation Accuracy = 0.993\n",
    "\n",
    "EPOCH 23 ...\n",
    "Validation Accuracy = 0.994\n",
    "\n",
    "EPOCH 24 ...\n",
    "Validation Accuracy = 0.994\n",
    "\n",
    "EPOCH 25 ...\n",
    "Validation Accuracy = 0.995\n",
    "\n",
    "EPOCH 26 ...\n",
    "Validation Accuracy = 0.995\n",
    "\n",
    "EPOCH 27 ...\n",
    "Validation Accuracy = 0.995\n",
    "\n",
    "EPOCH 28 ...\n",
    "Validation Accuracy = 0.995\n",
    "\n",
    "EPOCH 29 ...\n",
    "Validation Accuracy = 0.995\n",
    "\n",
    "EPOCH 30 ...\n",
    "Validation Accuracy = 0.995\n",
    "\n",
    "EPOCH 31 ...\n",
    "Validation Accuracy = 0.996\n",
    "\n",
    "EPOCH 32 ...\n",
    "Validation Accuracy = 0.995\n",
    "\n",
    "EPOCH 33 ...\n",
    "Validation Accuracy = 0.995\n",
    "\n",
    "EPOCH 34 ...\n",
    "Validation Accuracy = 0.996\n",
    "\n",
    "EPOCH 35 ...\n",
    "Validation Accuracy = 0.996\n",
    "\n",
    "EPOCH 36 ...\n",
    "Validation Accuracy = 0.996\n",
    "\n",
    "EPOCH 37 ...\n",
    "Validation Accuracy = 0.995\n",
    "\n",
    "EPOCH 38 ...\n",
    "Validation Accuracy = 0.997\n",
    "\n",
    "EPOCH 39 ...\n",
    "Validation Accuracy = 0.997\n",
    "\n",
    "EPOCH 40 ...\n",
    "Validation Accuracy = 0.998\n",
    "\n",
    "Model saved\n",
    "\n",
    "Training...\n",
    "Graystylel;Normalized;InputAugmented and 20% of training data distorted;Rate:0.001;BatchSize:128;Keep_Prob:0.5;discarded provided validation set and used one from training data\n",
    "EPOCH 1 ...\n",
    "Validation Accuracy = 0.607\n",
    "\n",
    "EPOCH 2 ...\n",
    "Validation Accuracy = 0.825\n",
    "\n",
    "EPOCH 3 ...\n",
    "Validation Accuracy = 0.888\n",
    "\n",
    "EPOCH 4 ...\n",
    "Validation Accuracy = 0.918\n",
    "\n",
    "EPOCH 5 ...\n",
    "Validation Accuracy = 0.940\n",
    "\n",
    "EPOCH 6 ...\n",
    "Validation Accuracy = 0.949\n",
    "\n",
    "EPOCH 7 ...\n",
    "Validation Accuracy = 0.956\n",
    "\n",
    "EPOCH 8 ...\n",
    "Validation Accuracy = 0.958\n",
    "\n",
    "EPOCH 9 ...\n",
    "Validation Accuracy = 0.970\n",
    "\n",
    "EPOCH 10 ...\n",
    "Validation Accuracy = 0.969\n",
    "\n",
    "EPOCH 11 ...\n",
    "Validation Accuracy = 0.975\n",
    "\n",
    "EPOCH 12 ...\n",
    "Validation Accuracy = 0.974\n",
    "\n",
    "EPOCH 13 ...\n",
    "Validation Accuracy = 0.975\n",
    "\n",
    "EPOCH 14 ...\n",
    "Validation Accuracy = 0.981\n",
    "\n",
    "EPOCH 15 ...\n",
    "Validation Accuracy = 0.981\n",
    "\n",
    "EPOCH 16 ...\n",
    "Validation Accuracy = 0.984\n",
    "\n",
    "EPOCH 17 ...\n",
    "Validation Accuracy = 0.985\n",
    "\n",
    "EPOCH 18 ...\n",
    "Validation Accuracy = 0.986\n",
    "\n",
    "EPOCH 19 ...\n",
    "Validation Accuracy = 0.988\n",
    "\n",
    "EPOCH 20 ...\n",
    "Validation Accuracy = 0.987\n",
    "\n",
    "EPOCH 21 ...\n",
    "Validation Accuracy = 0.988\n",
    "\n",
    "EPOCH 22 ...\n",
    "Validation Accuracy = 0.990\n",
    "\n",
    "EPOCH 23 ...\n",
    "Validation Accuracy = 0.989\n",
    "\n",
    "EPOCH 24 ...\n",
    "Validation Accuracy = 0.991\n",
    "\n",
    "EPOCH 25 ...\n",
    "Validation Accuracy = 0.991\n",
    "\n",
    "EPOCH 26 ...\n",
    "Validation Accuracy = 0.991\n",
    "\n",
    "EPOCH 27 ...\n",
    "Validation Accuracy = 0.991\n",
    "\n",
    "EPOCH 28 ...\n",
    "Validation Accuracy = 0.990\n",
    "\n",
    "EPOCH 29 ...\n",
    "Validation Accuracy = 0.991\n",
    "\n",
    "EPOCH 30 ...\n",
    "Validation Accuracy = 0.993\n",
    "\n",
    "EPOCH 31 ...\n",
    "Validation Accuracy = 0.991\n",
    "\n",
    "EPOCH 32 ...\n",
    "Validation Accuracy = 0.993\n",
    "\n",
    "EPOCH 33 ...\n",
    "Validation Accuracy = 0.992\n",
    "\n",
    "EPOCH 34 ...\n",
    "Validation Accuracy = 0.992\n",
    "\n",
    "EPOCH 35 ...\n",
    "Validation Accuracy = 0.994\n",
    "\n",
    "EPOCH 36 ...\n",
    "Validation Accuracy = 0.993\n",
    "\n",
    "EPOCH 37 ...\n",
    "Validation Accuracy = 0.993\n",
    "\n",
    "EPOCH 38 ...\n",
    "Validation Accuracy = 0.993\n",
    "\n",
    "EPOCH 39 ...\n",
    "Validation Accuracy = 0.993\n",
    "\n",
    "EPOCH 40 ...\n",
    "Validation Accuracy = 0.994\n",
    "\n",
    "Model saved\n",
    "\n",
    "Training...\n",
    "Graystylel;Normalized;InputAugmented and 0% of training data distorted;Rate:0.001;BatchSize:128;Keep_Prob:0.5;discarded provided validation set and used one from training data,Lenet2\n",
    "EPOCH 1 ...\n",
    "Validation Accuracy = 0.934\n",
    "\n",
    "EPOCH 2 ...\n",
    "Validation Accuracy = 0.972\n",
    "\n",
    "EPOCH 3 ...\n",
    "Validation Accuracy = 0.985\n",
    "\n",
    "EPOCH 4 ...\n",
    "Validation Accuracy = 0.991\n",
    "\n",
    "EPOCH 5 ...\n",
    "Validation Accuracy = 0.994\n",
    "\n",
    "EPOCH 6 ...\n",
    "Validation Accuracy = 0.995\n",
    "\n",
    "EPOCH 7 ...\n",
    "Validation Accuracy = 0.997\n",
    "\n",
    "EPOCH 8 ...\n",
    "Validation Accuracy = 0.997\n",
    "\n",
    "EPOCH 9 ...\n",
    "Validation Accuracy = 0.998\n",
    "\n",
    "EPOCH 10 ...\n",
    "Validation Accuracy = 0.998\n",
    "\n",
    "EPOCH 11 ...\n",
    "Validation Accuracy = 0.999\n",
    "\n",
    "EPOCH 12 ...\n",
    "Validation Accuracy = 0.999\n",
    "\n",
    "EPOCH 13 ...\n",
    "Validation Accuracy = 0.999\n",
    "\n",
    "EPOCH 14 ...\n",
    "Validation Accuracy = 0.999\n",
    "\n",
    "EPOCH 15 ...\n",
    "Validation Accuracy = 0.999\n",
    "\n",
    "EPOCH 16 ...\n",
    "Validation Accuracy = 0.999\n",
    "\n",
    "EPOCH 17 ...\n",
    "Validation Accuracy = 1.000\n",
    "\n",
    "EPOCH 18 ...\n",
    "Validation Accuracy = 1.000\n",
    "\n",
    "EPOCH 19 ...\n",
    "Validation Accuracy = 1.000\n",
    "\n",
    "EPOCH 20 ...\n",
    "Validation Accuracy = 1.000\n",
    "\n",
    "Model saved"
   ]
  }
 ],
 "metadata": {
  "anaconda-cloud": {},
  "kernelspec": {
   "display_name": "Python 3",
   "language": "python",
   "name": "python3"
  },
  "language_info": {
   "codemirror_mode": {
    "name": "ipython",
    "version": 3
   },
   "file_extension": ".py",
   "mimetype": "text/x-python",
   "name": "python",
   "nbconvert_exporter": "python",
   "pygments_lexer": "ipython3",
   "version": "3.5.2"
  },
  "widgets": {
   "state": {},
   "version": "1.1.2"
  }
 },
 "nbformat": 4,
 "nbformat_minor": 1
}
